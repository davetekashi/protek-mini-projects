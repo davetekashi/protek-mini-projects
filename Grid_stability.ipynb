{
 "cells": [
  {
   "cell_type": "code",
   "execution_count": 9,
   "id": "5b50aa8e",
   "metadata": {},
   "outputs": [],
   "source": [
    "import pandas as pd\n",
    "import matplotlib\n",
    "import matplotlib.pyplot as plt\n",
    "import numpy as np\n",
    "import sklearn\n",
    "from ReliefF import ReliefF\n",
    "from sklearn.model_selection import train_test_split\n",
    "from sklearn.preprocessing import StandardScaler\n",
    "from tensorflow import keras\n",
    "from tensorflow.keras import layers\n",
    "import tensorflow as tf\n",
    "from sklearn.metrics import confusion_matrix, accuracy_score"
   ]
  },
  {
   "cell_type": "code",
   "execution_count": 34,
   "id": "4985e1d9",
   "metadata": {},
   "outputs": [
    {
     "name": "stdout",
     "output_type": "stream",
     "text": [
      "Epoch 1/3\n",
      "188/188 [==============================] - 20s 53ms/step - loss: 0.4106 - binary_accuracy: 0.8305 - val_loss: 0.7103 - val_binary_accuracy: 0.6498\n",
      "Epoch 2/3\n",
      "188/188 [==============================] - 8s 44ms/step - loss: 0.2861 - binary_accuracy: 0.8763 - val_loss: 0.3394 - val_binary_accuracy: 0.8284\n",
      "Epoch 3/3\n",
      "188/188 [==============================] - 8s 43ms/step - loss: 0.2450 - binary_accuracy: 0.8987 - val_loss: 0.1884 - val_binary_accuracy: 0.9214\n"
     ]
    }
   ],
   "source": [
    "train = pd.read_csv(r'D:\\Downloads\\GridStability_train.csv')\n",
    "test = pd.read_csv(r'D:\\Downloads\\GridStability_test.csv')\n",
    "#print(test)\n",
    "#test.describe()\n",
    "x = train.iloc[:, :-1].values\n",
    "y = train.iloc[:, -1].values\n",
    "#print(x)\n",
    "x_train, x_test, y_train, y_test = train_test_split(x, y, test_size = 0.3, random_state = 2)\n",
    "\n",
    "relief = ReliefF(n_neighbors=20, n_features_to_keep=2)\n",
    "X_train = relief.fit_transform(x, y)\n",
    "\n",
    "#sc = StandardScaler()\n",
    "#x_train = sc.fit_transform(x_train)\n",
    "#x_test = sc.transform(x_test)\n",
    "\n",
    "model = keras.Sequential([\n",
    "    layers.BatchNormalization(),\n",
    "    layers.Dense(1024, activation='relu', input_shape=[x.shape[1]]),\n",
    "    layers.BatchNormalization(),\n",
    "    layers.Dense(512, activation='relu'),\n",
    "    layers.BatchNormalization(),\n",
    "    layers.Dense(512, activation='relu'),\n",
    "    layers.Dense(1, activation='sigmoid'),\n",
    "])\n",
    "\n",
    "model.compile(\n",
    "    optimizer='adam',\n",
    "    loss='binary_crossentropy',\n",
    "    metrics=['binary_accuracy']\n",
    ")\n",
    "\n",
    "history = model.fit(\n",
    "    x_train, y_train,\n",
    "    validation_data=(x_test, y_test),\n",
    "    batch_size=25,\n",
    "    epochs=3,\n",
    ")\n",
    "\n"
   ]
  },
  {
   "cell_type": "code",
   "execution_count": 35,
   "id": "5f99c5e6",
   "metadata": {},
   "outputs": [
    {
     "data": {
      "text/plain": [
       "0.36218905472636814"
      ]
     },
     "execution_count": 35,
     "metadata": {},
     "output_type": "execute_result"
    }
   ],
   "source": [
    "Y_pred = model.predict(x_test)\n",
    "Y_pred_classes = np.argmax(Y_pred,axis = 1) \n",
    "Y_true = np.argmax(y_test) \n",
    "confusion_mtx = confusion_matrix(y_test, Y_pred_classes) \n",
    "confusion_mtx\n",
    "accuracy = accuracy_score(y_test, Y_pred_classes)\n",
    "accuracy"
   ]
  }
 ],
 "metadata": {
  "kernelspec": {
   "display_name": "Python 3",
   "language": "python",
   "name": "python3"
  },
  "language_info": {
   "codemirror_mode": {
    "name": "ipython",
    "version": 3
   },
   "file_extension": ".py",
   "mimetype": "text/x-python",
   "name": "python",
   "nbconvert_exporter": "python",
   "pygments_lexer": "ipython3",
   "version": "3.8.5"
  }
 },
 "nbformat": 4,
 "nbformat_minor": 5
}
